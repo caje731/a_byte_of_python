{
 "cells": [
  {
   "cell_type": "markdown",
   "metadata": {},
   "source": [
    "```\n",
    "Snippets compiled by: \n",
    "Cajetan Rodrigues, Sr. Python Developer @ TrustYou GmbH.\n",
    "\n",
    "Presented at: \n",
    "Munich Python Meetup - June 2019 @TrustYou GmbH\n",
    "\n",
    "Contact me: \n",
    "Email: cajetan.rodrigues@trustyou.net\n",
    "Twitter: @r_cajetan\n",
    "```"
   ]
  },
  {
   "cell_type": "markdown",
   "metadata": {},
   "source": [
    "# \"I would rather have a mind opened by wonder than one closed by belief.\"\n",
    "  ~Gerry Spence"
   ]
  },
  {
   "cell_type": "markdown",
   "metadata": {},
   "source": [
    "## Which implementation of Python am I using?"
   ]
  },
  {
   "cell_type": "code",
   "execution_count": null,
   "metadata": {},
   "outputs": [],
   "source": [
    "import platform\n",
    "platform.python_implementation()"
   ]
  },
  {
   "cell_type": "markdown",
   "metadata": {},
   "source": [
    "## False Identity?"
   ]
  },
  {
   "cell_type": "code",
   "execution_count": null,
   "metadata": {},
   "outputs": [],
   "source": [
    "# Are these two lists equal?\n",
    "a = [1, 2]\n",
    "b = [1, 2]\n",
    "a == b"
   ]
  },
  {
   "cell_type": "code",
   "execution_count": null,
   "metadata": {},
   "outputs": [],
   "source": [
    "# And are they identical?\n",
    "a is b"
   ]
  },
  {
   "cell_type": "code",
   "execution_count": null,
   "metadata": {},
   "outputs": [],
   "source": [
    "id(a), id(b)"
   ]
  },
  {
   "cell_type": "code",
   "execution_count": null,
   "metadata": {},
   "outputs": [],
   "source": [
    "c = a\n",
    "(a == c)  and (a is c)"
   ]
  },
  {
   "cell_type": "code",
   "execution_count": null,
   "metadata": {},
   "outputs": [],
   "source": [
    "id(c), id(a)"
   ]
  },
  {
   "cell_type": "code",
   "execution_count": null,
   "metadata": {},
   "outputs": [],
   "source": [
    "# These numbers are not identical.\n",
    "a = 999\n",
    "b = 999\n",
    "a == b,  a is b"
   ]
  },
  {
   "cell_type": "code",
   "execution_count": null,
   "metadata": {},
   "outputs": [],
   "source": [
    "# Or...  are they?\n",
    "a = 255\n",
    "b = 255\n",
    "a == b,  a is b"
   ]
  },
  {
   "cell_type": "code",
   "execution_count": null,
   "metadata": {},
   "outputs": [],
   "source": [
    "x = [ a for a in range(-5,999)]\n",
    "y = [ a for a in range(-5,999)]\n",
    "z = []\n",
    "\n",
    "for i in x:\n",
    "    if x[i] == y[i] and x[i] is y[i]:\n",
    "        z.append(x[i])\n",
    "        \n",
    "print(z)"
   ]
  },
  {
   "cell_type": "markdown",
   "metadata": {},
   "source": [
    "## Full-width Unicode variable-names"
   ]
  },
  {
   "cell_type": "code",
   "execution_count": null,
   "metadata": {},
   "outputs": [],
   "source": [
    "class MyClass:\n",
    "    ｍｙ_ａｔｔｒ = 42\n",
    "    \n",
    "print(MyClass.my_attr)\n",
    "print(MyClass.ｍｙ_ａｔｔｒ)\n",
    "print(getattr(MyClass, 'my_attr'))\n",
    "print(getattr(MyClass, 'ｍｙ_ａｔｔｒ'))   # BOOM! "
   ]
  },
  {
   "cell_type": "code",
   "execution_count": null,
   "metadata": {},
   "outputs": [],
   "source": [
    "print('my_attr' in dir(MyClass))\n",
    "print('ｍｙ_ａｔｔｒ' in dir(MyClass))\n",
    "\n",
    "# Same behaviour for locals()\n",
    "ß = 5\n",
    "'ß' in locals()\n"
   ]
  },
  {
   "cell_type": "code",
   "execution_count": null,
   "metadata": {},
   "outputs": [],
   "source": [
    "# setattr works though!\n",
    "setattr(MyClass, 'ｍｙ_ａｔｔｒ', 'hello there!')\n",
    "print(getattr(MyClass, 'ｍｙ_ａｔｔｒ'))\n",
    "print(MyClass.__dict__)"
   ]
  },
  {
   "cell_type": "markdown",
   "metadata": {},
   "source": [
    "## Scopes unscoped"
   ]
  },
  {
   "cell_type": "code",
   "execution_count": null,
   "metadata": {},
   "outputs": [],
   "source": [
    "#https://gist.github.com/davidism/645100dc43633c02d60f156ef4d0d451\n",
    "\n",
    "a = 'global'\n",
    "\n",
    "class Fred:\n",
    "    a = 'class'\n",
    "    b = (a for i in range(10))\n",
    "    c = [a for i in range(10)]\n",
    "    d = a\n",
    "    e = lambda: a\n",
    "    f = lambda a=a: a\n",
    "    \n",
    "    @staticmethod\n",
    "    def g():\n",
    "        return a\n",
    "\n",
    "print(Fred.a)  # class\n",
    "print(next(Fred.b))  # global\n",
    "print(Fred.c[0])  # class in Python 2, global in Python 3\n",
    "print(Fred.d)  # class\n",
    "print(Fred.e())  # global\n",
    "print(Fred.f())  # class\n",
    "print(Fred.g()) # global"
   ]
  },
  {
   "cell_type": "markdown",
   "metadata": {},
   "source": [
    "## Woes of addition"
   ]
  },
  {
   "cell_type": "code",
   "execution_count": null,
   "metadata": {},
   "outputs": [],
   "source": [
    "# I can extend a list by a tuple.\n",
    "x = (1, 2)\n",
    "print(id(x))\n",
    "x += (3, 4)\n",
    "x\n",
    "print(id(x))"
   ]
  },
  {
   "cell_type": "code",
   "execution_count": null,
   "metadata": {},
   "outputs": [],
   "source": [
    "# Or... can I ?\n",
    "x = [1, 2]\n",
    "x = x + (3, 4)\n",
    "x"
   ]
  },
  {
   "cell_type": "code",
   "execution_count": null,
   "metadata": {},
   "outputs": [],
   "source": [
    "# This worked in the reverse direction. Let's flip.\n",
    "x = (1, 2)\n",
    "x += [3, 4]\n",
    "x"
   ]
  },
  {
   "cell_type": "code",
   "execution_count": null,
   "metadata": {},
   "outputs": [],
   "source": [
    "# Yeeeaahh sooo... this should explode too?\n",
    "x = []\n",
    "x += 'hello'\n",
    "x.extend('world')\n",
    "x"
   ]
  },
  {
   "cell_type": "markdown",
   "metadata": {},
   "source": [
    "## In-place Additions"
   ]
  },
  {
   "cell_type": "code",
   "execution_count": null,
   "metadata": {},
   "outputs": [],
   "source": [
    "a = b = (1, 2)\n",
    "a += (3, 4)\n",
    "print(a)\n",
    "print(b)"
   ]
  },
  {
   "cell_type": "code",
   "execution_count": null,
   "metadata": {},
   "outputs": [],
   "source": [
    "a = b = [1, 2]\n",
    "a += (3, 4)\n",
    "print(a)\n",
    "print(b)"
   ]
  },
  {
   "cell_type": "code",
   "execution_count": null,
   "metadata": {},
   "outputs": [],
   "source": [
    "a = b = [0]\n",
    "a += b\n",
    "print(a)\n",
    "print(b)"
   ]
  },
  {
   "cell_type": "code",
   "execution_count": null,
   "metadata": {},
   "outputs": [],
   "source": [
    "a = b = [0]\n",
    "a = a + b\n",
    "print(a)\n",
    "print(b)"
   ]
  },
  {
   "cell_type": "code",
   "execution_count": null,
   "metadata": {},
   "outputs": [],
   "source": [
    "\n",
    "a = ([1, 2],)\n",
    "print(id(a[0]))\n",
    "a[0] += [3, 4]\n",
    "print(id(a[0]))"
   ]
  },
  {
   "cell_type": "code",
   "execution_count": null,
   "metadata": {},
   "outputs": [],
   "source": [
    "print(id(a[0]))\n",
    "a"
   ]
  },
  {
   "cell_type": "code",
   "execution_count": null,
   "metadata": {},
   "outputs": [],
   "source": [
    "\n",
    "a = ([d, 2],)\n",
    "a[0] = a[0].__iadd__([3, 4]) # a[0] += [3, 4]"
   ]
  },
  {
   "cell_type": "code",
   "execution_count": null,
   "metadata": {},
   "outputs": [],
   "source": [
    "print(a[0])\n",
    "print(a[0].__iadd__([5]))\n",
    "print(a[0])"
   ]
  },
  {
   "cell_type": "code",
   "execution_count": null,
   "metadata": {},
   "outputs": [],
   "source": [
    "a[0] = [1, 2, 3, 4, 5]"
   ]
  },
  {
   "cell_type": "markdown",
   "metadata": {},
   "source": [
    "## Miscellaneous"
   ]
  },
  {
   "cell_type": "code",
   "execution_count": null,
   "metadata": {},
   "outputs": [],
   "source": [
    "\"hello\" + True"
   ]
  },
  {
   "cell_type": "code",
   "execution_count": null,
   "metadata": {},
   "outputs": [],
   "source": [
    "\"hello\" * False"
   ]
  },
  {
   "cell_type": "code",
   "execution_count": null,
   "metadata": {},
   "outputs": [],
   "source": [
    "\"hello\" * True"
   ]
  },
  {
   "cell_type": "code",
   "execution_count": null,
   "metadata": {},
   "outputs": [],
   "source": [
    "a = [1, 0]\n",
    "print(a)\n",
    "\n",
    "a[0], a[a[0]] = a[a[0]], a[0]\n",
    "print(a)\n",
    "\n",
    "a = [1, 0]\n",
    "a[a[0]], a[0] = a[0], a[a[0]]\n",
    "print(a)"
   ]
  },
  {
   "cell_type": "code",
   "execution_count": null,
   "metadata": {},
   "outputs": [],
   "source": [
    "'Python' in 'Python' in 'Python'\n",
    "P in P and P in P"
   ]
  },
  {
   "cell_type": "code",
   "execution_count": null,
   "metadata": {},
   "outputs": [],
   "source": [
    "'Python' in 'Python'"
   ]
  },
  {
   "cell_type": "code",
   "execution_count": null,
   "metadata": {},
   "outputs": [],
   "source": [
    "True in 'Python'"
   ]
  },
  {
   "cell_type": "code",
   "execution_count": null,
   "metadata": {},
   "outputs": [],
   "source": [
    "('Python' in 'Python') in 'Python'"
   ]
  },
  {
   "cell_type": "code",
   "execution_count": null,
   "metadata": {},
   "outputs": [],
   "source": [
    "'Python' in ['Python'] in [['Python']]"
   ]
  },
  {
   "cell_type": "code",
   "execution_count": null,
   "metadata": {},
   "outputs": [],
   "source": [
    "x = 25\n",
    "10 < x < 25"
   ]
  },
  {
   "cell_type": "code",
   "execution_count": null,
   "metadata": {},
   "outputs": [],
   "source": [
    "\"\"\"multiline\n",
    "string\"\"\""
   ]
  },
  {
   "cell_type": "code",
   "execution_count": null,
   "metadata": {},
   "outputs": [],
   "source": [
    "r\"\"\"\"\" Strings with five quotes around them \"\"\"\"\"\n",
    "'F'+'G'"
   ]
  },
  {
   "cell_type": "code",
   "execution_count": null,
   "metadata": {},
   "outputs": [],
   "source": [
    "\"\"\"\"\" Strings with five \n",
    "quotes around them \"\"\"\"\""
   ]
  },
  {
   "cell_type": "code",
   "execution_count": null,
   "metadata": {},
   "outputs": [],
   "source": [
    "\"\"\"\"\" Strings with \n",
    "five quotes around them \"\"\"\"\""
   ]
  },
  {
   "cell_type": "code",
   "execution_count": null,
   "metadata": {},
   "outputs": [],
   "source": [
    "class A:\n",
    "    alphabet = 'abcdefghijklmnopqrstuvwxyz'\n",
    "    letter_a = alphabet[0]\n",
    "    letters = {\n",
    "      letter: (ord(letter) - ord(A.letter_a))\n",
    "      for letter in alphabet\n",
    "    }"
   ]
  },
  {
   "cell_type": "markdown",
   "metadata": {},
   "source": [
    "## Math exponentiation (honorary mention)"
   ]
  },
  {
   "cell_type": "code",
   "execution_count": null,
   "metadata": {},
   "outputs": [],
   "source": [
    "2 ** 3 ** 5 ==  2 ** (3 ** 5)"
   ]
  },
  {
   "cell_type": "code",
   "execution_count": null,
   "metadata": {},
   "outputs": [],
   "source": [
    "((2**3)**5)**2 == 2**(3*5*2) "
   ]
  }
 ],
 "metadata": {
  "kernelspec": {
   "display_name": "Python 3",
   "language": "python",
   "name": "python3"
  },
  "language_info": {
   "codemirror_mode": {
    "name": "ipython",
    "version": 3
   },
   "file_extension": ".py",
   "mimetype": "text/x-python",
   "name": "python",
   "nbconvert_exporter": "python",
   "pygments_lexer": "ipython3",
   "version": "3.7.0"
  }
 },
 "nbformat": 4,
 "nbformat_minor": 2
}
